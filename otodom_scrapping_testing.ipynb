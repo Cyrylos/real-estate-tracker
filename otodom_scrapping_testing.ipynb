{
 "cells": [
  {
   "cell_type": "code",
   "execution_count": 1,
   "id": "d88193e4",
   "metadata": {},
   "outputs": [],
   "source": [
    "%config IPCompleter.greedy=True"
   ]
  },
  {
   "cell_type": "code",
   "execution_count": 2,
   "id": "885b5f35",
   "metadata": {},
   "outputs": [],
   "source": [
    "import requests\n",
    "from bs4 import BeautifulSoup, SoupStrainer\n",
    "import re\n",
    "import urllib\n",
    "import json"
   ]
  },
  {
   "cell_type": "code",
   "execution_count": 3,
   "id": "6248992e",
   "metadata": {},
   "outputs": [],
   "source": [
    "page = requests.get(\"https://www.otodom.pl/pl/oferty/sprzedaz/dom/lubon?distanceRadius=0&page=1&limit=200&market=ALL&locations=%5Bcities_6-2%5D&viewType=listing\")\n",
    "soup = BeautifulSoup(page.content, 'html.parser')"
   ]
  },
  {
   "cell_type": "code",
   "execution_count": 4,
   "id": "d5158385",
   "metadata": {},
   "outputs": [
    {
     "name": "stdout",
     "output_type": "stream",
     "text": [
      "https://www.otodom.pl/pl/oferta/nowosc-w-luboniu-ID4dxSF\n",
      "https://www.otodom.pl/pl/oferta/lubon-zabikowo-ID4gkaR\n",
      "https://www.otodom.pl/pl/oferta/blizniak-w-stanie-deweloperskim-lubon-ul-wczasowa-ID4eCyV\n",
      "https://www.otodom.pl/pl/oferta/do-wprowadzeniagaraz4-sypialniegotowyod-zaraz-ID4ggOt\n",
      "https://www.otodom.pl/pl/oferta/gwarantowane-138-000zl-rok-11-71-roi-ID4fEea\n",
      "https://www.otodom.pl/pl/oferta/lubon-kujawska-4-pokojowy-dom-nr-m10-ID4dhXV\n",
      "https://www.otodom.pl/pl/oferta/lubon-kujawska-4-pokojowy-dom-nr-m20-ID4dZXQ\n",
      "https://www.otodom.pl/pl/oferta/lubon-kujawska-4-pokojowy-dom-nr-m18-ID4d3qx\n",
      "https://www.otodom.pl/pl/oferta/nowy-dom-do-wprowadzenia-dla-ciebie-lubon-ID4grlS\n",
      "https://www.otodom.pl/pl/oferta/dzialka-z-zabudowa-niezalezny-blizniak-centrum-ID4fQlY\n",
      "https://www.otodom.pl/pl/oferta/dom-na-sprzedaz-155-m2-dwulokalowy-lubon-ID4cy7L\n",
      "https://www.otodom.pl/pl/oferta/piekny-dom-wolnostojacy-w-luboniu-ogrod-taras-ID4fWGq\n",
      "https://www.otodom.pl/pl/oferta/lubon-dom-z-ogrodem-odzielna-kuchnia-2-miejsca-ID4f5RF\n",
      "https://www.otodom.pl/pl/oferta/nowosc-w-luboniu-ID4dxSF\n",
      "https://www.otodom.pl/pl/oferta/gekkohouse-duza-dzialka-blisko-centrum-ID4gqdC\n",
      "https://www.otodom.pl/pl/oferta/gekkohouse-spokojna-okolica-blisko-szkola-ID4gqbm\n",
      "https://www.otodom.pl/pl/oferta/gekkohouse-spokojna-okolica-blisko-szkola-ID4gqbi\n",
      "https://www.otodom.pl/pl/oferta/dom-z-garazem-w-luboniu-ID4g4xI\n",
      "https://www.otodom.pl/pl/oferta/wyjatkowy-dom-mozliwosc-podzialu-garaze-ID4dUTE\n",
      "https://www.otodom.pl/pl/oferta/komfortowy-dom-parterowy-ID4gp8C\n",
      "https://www.otodom.pl/pl/oferta/dom-w-zabudowie-blizniaczej-lubon-piekna-okolica-ID4goWx\n",
      "https://www.otodom.pl/pl/oferta/lubon-skrajny-szeregowiec-nowe-od-dewelopera-pe-ID4f5RN\n",
      "https://www.otodom.pl/pl/oferta/nowe-domy-w-luboniu-z-ogrodem-ID4go9B\n",
      "https://www.otodom.pl/pl/oferta/piekny-dom-w-luboniu-z-garazem-klimatyczny-urok-ID4eFcZ\n",
      "https://www.otodom.pl/pl/oferta/segment-szeregowca-do-generalnego-remontu-ID4glKk\n",
      "https://www.otodom.pl/pl/oferta/stare-ogrody-kolejny-etap-0-prowizji-ID4glgk\n",
      "https://www.otodom.pl/pl/oferta/parterowy-wolnostojacy-dom-w-luboniu-ID4dUpj\n",
      "https://www.otodom.pl/pl/oferta/stare-ogrody-kolejny-etap-0-prowizji-ID4gleE\n",
      "https://www.otodom.pl/pl/oferta/przestronny-segment-szeregowca-91-m2-495000-zl-ID4gky8\n",
      "https://www.otodom.pl/pl/oferta/dom-szeregowy-96-2-m2-poddasze-ID4gkvP\n",
      "https://www.otodom.pl/pl/oferta/lubon-zabikowo-ID4gkaR\n",
      "https://www.otodom.pl/pl/oferta/-ID4gk7O\n",
      "https://www.otodom.pl/pl/oferta/energooszczedny-dom-na-przedmiesciach-ID4gk7N\n",
      "https://www.otodom.pl/pl/oferta/167m2-b-wysoki-standard-2-garaze-ogrod-800m-do-a2-ID43kTV\n",
      "https://www.otodom.pl/pl/oferta/dla-twojej-rodziny-nowy-dom-w-luboniu-ID4fJoG\n",
      "https://www.otodom.pl/pl/oferta/nowy-dom-4-pokoje-z-ogrodem-lubon-ID4dH1i\n",
      "https://www.otodom.pl/pl/oferta/lubon-ul-modrakowa-5-pokoi-dzialka-265-m2-ID4dRKK\n",
      "https://www.otodom.pl/pl/oferta/dom-z-uzytkowym-poddaszem-oraz-garazem-ID4gcse\n",
      "https://www.otodom.pl/pl/oferta/pol-blizniak-5-pokoi-garaz-fotowoltaika-ID4fA36\n",
      "https://www.otodom.pl/pl/oferta/gotowy-w-stanie-developerskim-dom-92-m2-ID4gbac\n",
      "https://www.otodom.pl/pl/oferta/stylowy-dom-na-kameralnym-osiedlu-w-luboniu-ID4gaWN\n",
      "https://www.otodom.pl/pl/oferta/gekkohouse-spokojna-okolica-blisko-szkola-ID4g9jU\n",
      "https://www.otodom.pl/pl/oferta/gekkohouse-spokojna-okolica-blisko-szkola-ID4g9jT\n",
      "https://www.otodom.pl/pl/oferta/gekkohouse-duza-dzialka-blisko-centrum-ID4fjm3\n",
      "https://www.otodom.pl/pl/oferta/dom-wolnostojacy-4-pokoje-2-lazienki-2-kuchnie-ID4g8er\n",
      "https://www.otodom.pl/pl/oferta/dom-wolnostojacy-lubon-ID4eudw\n",
      "https://www.otodom.pl/pl/oferta/dom-w-zabudowie-blizniaczej-w-spokojnej-okolicy-ID4fwaT\n",
      "https://www.otodom.pl/pl/oferta/skrajny-segment-blisko-poznania-ID4g55D\n",
      "https://www.otodom.pl/pl/oferta/stare-ogrody-kompleks-4-domow-0-prowizji-ID4g54g\n",
      "https://www.otodom.pl/pl/oferta/lubon-sr-szeregi-z-garazami-0-prowizji-ID4g54c\n",
      "https://www.otodom.pl/pl/oferta/dom-mieszkanie-w-zabudowie-szeregowej-ID48obp\n",
      "https://www.otodom.pl/pl/oferta/dom-pod-poznaniem-w-super-cenie-ID4g3z1\n",
      "https://www.otodom.pl/pl/oferta/dom-w-spokojnej-okolicy-lubon-szeregowiec-4pok-ID4g0Tc\n",
      "https://www.otodom.pl/pl/oferta/110-m2-strych-duzy-ogrod-balkon-2m-postojowe-ID4g0Q6\n",
      "https://www.otodom.pl/pl/oferta/gekkohouse-nowy-dom-w-spokojnej-czesci-miasta-ID4et7W\n",
      "https://www.otodom.pl/pl/oferta/gekkohouse-nowy-dom-w-spokojnej-czesci-miasta-ID4eSBk\n",
      "https://www.otodom.pl/pl/oferta/dom-w-zabudowie-blizniaczej-lubon-ostatni-skrajny-ID4fSuL\n",
      "https://www.otodom.pl/pl/oferta/energooszczedny-szeregowiec-w-luboniu-ID4fLYV\n",
      "https://www.otodom.pl/pl/oferta/przestronny-segment-szeregowca-103-5-m2-ID4fKwt\n",
      "https://www.otodom.pl/pl/oferta/skrajny-segment-103-5-m2-w-luboniu-ID4fKjp\n",
      "https://www.otodom.pl/pl/oferta/mieszkanie-dwupoziomowe-z-ogrodkiem-w-luboniu-ID4fJbS\n",
      "https://www.otodom.pl/pl/oferta/nowe-inwestycja-w-luboniu-ID4fJbP\n",
      "https://www.otodom.pl/pl/oferta/dom-z-ogrodem-lubon-skrajny-dom-w-szeregowcu-ID4fHpm\n",
      "https://www.otodom.pl/pl/oferta/nowoczesne-szeregowce-z-garazem-juz-w-sprzedazy-ID4fGvg\n",
      "https://www.otodom.pl/pl/oferta/energooszczedne-domy-w-cenie-mieszkania-ID4fBaz\n",
      "https://www.otodom.pl/pl/oferta/spokojna-lokalizacja-250m-od-jeziora-i-warty-ID4fzEr\n",
      "https://www.otodom.pl/pl/oferta/skrajne-domy-w-luboniu-z-ogrodami-ID4fwR9\n",
      "https://www.otodom.pl/pl/oferta/skrajny-szereg-w-luboniu-ogrod-132-m2-ID4fup3\n",
      "https://www.otodom.pl/pl/oferta/dom-w-zabudowie-blizniaczej-ID4fr9A\n",
      "https://www.otodom.pl/pl/oferta/funkcjonalny-dom-blizniak-lubon-k-poznania-ID4fqwy\n",
      "https://www.otodom.pl/pl/oferta/piekne-polozenie-duzo-slonca-nowa-zabudowa-zami-ID4fkIJ\n",
      "https://www.otodom.pl/pl/oferta/dom-na-zbiegu-wir-lubonia-i-komornik-ID4fbgr\n",
      "https://www.otodom.pl/pl/oferta/dom-na-zbiegu-wir-lubonia-i-komornik-ID4fbfA\n",
      "https://www.otodom.pl/pl/oferta/skrajny-segment-szeregowca-91-1-m2-510-000-zl-ID4f8Au\n",
      "https://www.otodom.pl/pl/oferta/komfortowy-lokal-z-ogrodem-w-swietnej-cenie-lu-ID4dFC2\n",
      "https://www.otodom.pl/pl/oferta/skrajny-lokal-z-ogrodem-lubon-gwarancja-ceny-ID4dFC7\n",
      "https://www.otodom.pl/pl/oferta/srodkowy-segment-szeregowca-96-2-m2-poddasze-ID4f2sn\n",
      "https://www.otodom.pl/pl/oferta/1310-m2-dzialka-z-domem-1959-w-luboniu-ID4eHrN\n",
      "https://www.otodom.pl/pl/oferta/blizniak-w-stanie-deweloperskim-lubon-ul-wczasowa-ID4eCyV\n",
      "https://www.otodom.pl/pl/oferta/dom-w-cenie-mieszkania-lubon-ID4eww3\n",
      "https://www.otodom.pl/pl/oferta/dom-wolnostojacy-pietrowy-lubon-148-m2-ID4em2W\n",
      "https://www.otodom.pl/pl/oferta/dom-lubon-poznan-2-m-ca-postojowe-w-cenie-4-pok-ID4dUbf\n",
      "https://www.otodom.pl/pl/oferta/lokalizacja-na-5-ogrod-parking-dwa-poziomy-ID4dEDA\n",
      "https://www.otodom.pl/pl/oferta/wiry-lubon-bez-pcc-i-prowizji-duze-pokoje-ID4dpPQ\n",
      "https://www.otodom.pl/pl/oferta/lubon-szeregowiec-przedsprzedaz-ID4d7bv\n"
     ]
    }
   ],
   "source": [
    "links = []\n",
    "base = \"https://www.otodom.pl\"\n",
    "pattern = r\"^\\/pl\\/oferta\\/.*\"\n",
    "for a in soup.find_all('a', href=True):\n",
    "    link = a['href']\n",
    "    if(re.match(pattern, link)):\n",
    "        link = urllib.parse.urljoin(base, link)\n",
    "        links.append(link)\n",
    "        print(link)"
   ]
  },
  {
   "cell_type": "code",
   "execution_count": 5,
   "id": "550972fb",
   "metadata": {},
   "outputs": [],
   "source": [
    "page = requests.get(\"https://www.otodom.pl/pl/oferta/lubon-kujawska-4-pokojowy-dom-nr-m20-ID4dZXQ\")\n",
    "soup = BeautifulSoup(page.content, 'html.parser')"
   ]
  },
  {
   "cell_type": "code",
   "execution_count": 6,
   "id": "a397a2e6",
   "metadata": {},
   "outputs": [],
   "source": [
    "estate_data = soup.find(\"script\", {\"id\": \"__NEXT_DATA__\"})\n",
    "estate_data = str(estate_data.string)\n",
    "estate_data_json = json.loads(estate_data)"
   ]
  },
  {
   "cell_type": "code",
   "execution_count": 7,
   "id": "5d32302d",
   "metadata": {},
   "outputs": [
    {
     "data": {
      "text/plain": [
       "dict_keys(['props', 'page', 'query', 'buildId', 'assetPrefix', 'isFallback', 'gssp', 'customServer'])"
      ]
     },
     "execution_count": 7,
     "metadata": {},
     "output_type": "execute_result"
    }
   ],
   "source": [
    "estate_data_json.keys()"
   ]
  },
  {
   "cell_type": "code",
   "execution_count": 8,
   "id": "0b84de4a",
   "metadata": {},
   "outputs": [],
   "source": [
    "otodom_id = estate_data_json['props']['pageProps']['id']"
   ]
  },
  {
   "cell_type": "code",
   "execution_count": 9,
   "id": "199433f3",
   "metadata": {},
   "outputs": [
    {
     "data": {
      "text/plain": [
       "dict_keys(['translations', 'lang', 'frontGraphQLUrl', 'environment', 'staticAssetsPrefix', 'fbCognitoLoginUrl', 'googleCognitoLoginUrl', 'currentUser', 'id', 'ad', 'googleApiKey', 'sphereApiToken', 'relativeUrl', 'adTrackingData', 'abTestServerREMT1', 'abTestServerREMT72', 'referer', 'userSessionId', 'isBrandingFeatureEnabled', 'isAdFinanceLinkEnabled', 'isNewInformationEnabled', 'isNewProjectPageEnabled', 'isNewApartmentsForSalePostingFormEnabled', 'areAdPageExtraContactOptionsAvailable'])"
      ]
     },
     "execution_count": 9,
     "metadata": {},
     "output_type": "execute_result"
    }
   ],
   "source": [
    "estate_data_json['props']['pageProps'].keys()"
   ]
  },
  {
   "cell_type": "code",
   "execution_count": 10,
   "id": "ea646195",
   "metadata": {
    "scrolled": true
   },
   "outputs": [],
   "source": [
    "real_estate_details = estate_data_json['props']['pageProps']['ad']['characteristics']"
   ]
  },
  {
   "cell_type": "code",
   "execution_count": 11,
   "id": "dde6b57e",
   "metadata": {},
   "outputs": [],
   "source": [
    "real_estate_details = {detail[\"key\"]: detail[\"value\"] for detail in real_estate_details}"
   ]
  },
  {
   "cell_type": "code",
   "execution_count": 12,
   "id": "b75022f3",
   "metadata": {},
   "outputs": [
    {
     "data": {
      "text/plain": [
       "{'price': '569000',\n",
       " 'terrain_area': '171.78',\n",
       " 'm': '80.02',\n",
       " 'price_per_m': '7111',\n",
       " 'market': 'primary',\n",
       " 'rooms_num': '4',\n",
       " 'build_year': '2023',\n",
       " 'location': 'suburban'}"
      ]
     },
     "execution_count": 12,
     "metadata": {},
     "output_type": "execute_result"
    }
   ],
   "source": [
    "real_estate_details"
   ]
  },
  {
   "cell_type": "code",
   "execution_count": 13,
   "id": "2dd9c6f2",
   "metadata": {},
   "outputs": [
    {
     "data": {
      "text/plain": [
       "dict_keys(['Area', 'AreaRange', 'Build_year', 'City', 'City_id', 'Country', 'Id', 'Location', 'MarketType', 'ObidoAdvert', 'OfferType', 'Photo', 'Price', 'PriceRange', 'Price_per_m', 'ProperType', 'Province', 'RegularUser', 'Rooms_num', 'Subregion', 'Terrain_area', 'Title', 'categoryId', 'env', 'hidePrice', 'seller_id', 'user_type'])"
      ]
     },
     "execution_count": 13,
     "metadata": {},
     "output_type": "execute_result"
    }
   ],
   "source": [
    "estate_data_json['props']['pageProps']['ad']['target'].keys()"
   ]
  },
  {
   "cell_type": "code",
   "execution_count": 14,
   "id": "9dea583f",
   "metadata": {},
   "outputs": [
    {
     "name": "stdout",
     "output_type": "stream",
     "text": [
      "Area: 80.02\n",
      "AreaRange: []\n",
      "Build_year: 2023\n",
      "City: lubon\n",
      "City_id: 2\n",
      "Country: Polska\n",
      "Id: 62441802\n",
      "Location: ['suburban']\n",
      "MarketType: primary\n",
      "ObidoAdvert: y\n",
      "OfferType: sprzedaz\n",
      "Photo: aHR0cHM6Ly9pcmVsYW5kLmFwb2xsby5vbHhjZG4uY29tL3YxL2ZpbGVzL2V5Sm1iaUk2SW1OaGFuWTVZMkkzZUhoeWR5MUZRMDlUV1ZOVVJVMGlMQ0ozSWpwYmV5Sm1iaUk2SW1WdWRtWnhjV1V4WVhrMGF6RXRRVkJNSWl3aWN5STZJakUwSWl3aWNDSTZJakV3TEMweE1DSXNJbUVpT2lJd0luMWRmUS5TZUk2eWFsZTY3Yl84Qk5OVi1BTnJHdEtyOVZNbEo3cURwQmdudzZfcjljL2ltYWdlO3M9NjU1eDQ5MTtxPTgw\n",
      "Price: 569000\n",
      "PriceRange: ['500001-750000']\n",
      "Price_per_m: 7111\n",
      "ProperType: dom\n",
      "Province: wielkopolskie\n",
      "RegularUser: n\n",
      "Rooms_num: ['4']\n",
      "Subregion: powiat-poznanski\n",
      "Terrain_area: 171.78\n",
      "Title: THVib8WEIEt1amF3c2thIC0gNC1wb2tvam93eSBkb20gbnIgTTIw\n",
      "categoryId: 201\n",
      "env: production\n",
      "hidePrice: 0\n",
      "seller_id: 8165660\n",
      "user_type: developer\n"
     ]
    }
   ],
   "source": [
    "print(\"\\n\".join(f\"{key}: {estate_data_json['props']['pageProps']['ad']['target'][key]}\" for key in estate_data_json['props']['pageProps']['ad']['target']))"
   ]
  },
  {
   "cell_type": "code",
   "execution_count": 15,
   "id": "dda78163",
   "metadata": {},
   "outputs": [],
   "source": [
    "values_to_extract = [\"City\", \"Price\", \"Price_per_m\", \"Area\", \"Terrain_area\", \"Build_year\", \"MarketType\"]"
   ]
  },
  {
   "cell_type": "code",
   "execution_count": 16,
   "id": "0fa04ae8",
   "metadata": {},
   "outputs": [],
   "source": [
    "real_estate_details = {key: estate_data_json['props']['pageProps']['ad']['target'][key] for key in values_to_extract}"
   ]
  },
  {
   "cell_type": "code",
   "execution_count": 17,
   "id": "9462b300",
   "metadata": {},
   "outputs": [
    {
     "data": {
      "text/plain": [
       "{'City': 'lubon',\n",
       " 'Price': 569000,\n",
       " 'Price_per_m': 7111,\n",
       " 'Area': '80.02',\n",
       " 'Terrain_area': '171.78',\n",
       " 'Build_year': '2023',\n",
       " 'MarketType': 'primary'}"
      ]
     },
     "execution_count": 17,
     "metadata": {},
     "output_type": "execute_result"
    }
   ],
   "source": [
    "real_estate_details"
   ]
  }
 ],
 "metadata": {
  "kernelspec": {
   "display_name": "Python 3 (ipykernel)",
   "language": "python",
   "name": "python3"
  },
  "language_info": {
   "codemirror_mode": {
    "name": "ipython",
    "version": 3
   },
   "file_extension": ".py",
   "mimetype": "text/x-python",
   "name": "python",
   "nbconvert_exporter": "python",
   "pygments_lexer": "ipython3",
   "version": "3.9.7"
  }
 },
 "nbformat": 4,
 "nbformat_minor": 5
}
